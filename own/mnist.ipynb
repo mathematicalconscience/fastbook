{
 "cells": [
  {
   "cell_type": "code",
   "execution_count": 109,
   "id": "594749d3-a3f4-4958-a6cf-3e92b5d0523f",
   "metadata": {},
   "outputs": [],
   "source": [
    "#hide\n",
    "! [ -e /content ] && pip install -Uqq fastbook\n",
    "import fastbook\n",
    "fastbook.setup_book()"
   ]
  },
  {
   "cell_type": "code",
   "execution_count": 110,
   "id": "fdbbbaa2-c818-4159-92c8-a2d8d7347091",
   "metadata": {
    "editable": true,
    "slideshow": {
     "slide_type": ""
    },
    "tags": []
   },
   "outputs": [],
   "source": [
    "#hide\n",
    "from fastai.vision.all import *\n",
    "from fastbook import *\n",
    "\n",
    "matplotlib.rc('image', cmap='Greys')"
   ]
  },
  {
   "cell_type": "code",
   "execution_count": 111,
   "id": "6d3ca899-7801-4dc4-ad6a-8875dc0a19bc",
   "metadata": {},
   "outputs": [],
   "source": [
    "path = untar_data(URLs.MNIST)"
   ]
  },
  {
   "cell_type": "code",
   "execution_count": 112,
   "id": "1f19a9ce-54ae-4ff4-a662-c752a824f7ce",
   "metadata": {},
   "outputs": [],
   "source": [
    "#hide\n",
    "Path.BASE_PATH = path"
   ]
  },
  {
   "cell_type": "code",
   "execution_count": 113,
   "id": "962c24ed-81cd-49b2-8993-93cd94d059d2",
   "metadata": {},
   "outputs": [],
   "source": [
    "def create_mask(index: int, length: int):\n",
    "    index = torch.tensor([index])\n",
    "    src = torch.tensor([1])\n",
    "    z = torch.zeros(length, dtype = src.dtype)\n",
    "    return z.scatter_(0, index, src)"
   ]
  },
  {
   "cell_type": "code",
   "execution_count": 129,
   "id": "341240b5-a430-43bf-9bce-955e578bf1a6",
   "metadata": {},
   "outputs": [
    {
     "data": {
      "text/plain": [
       "(torch.Size([60000, 784]), torch.Size([60000, 10]))"
      ]
     },
     "execution_count": 129,
     "metadata": {},
     "output_type": "execute_result"
    }
   ],
   "source": [
    "train_x = torch.cat(\n",
    "    [torch.stack([tensor(Image.open(o)) for o in (path/'training'/f'{num}').ls()]).float()/255.0 for num in range(0, 10)]\n",
    ").view(-1, 28*28)\n",
    "\n",
    "train_y = torch.cat(\n",
    "    [create_mask(i, 10).repeat(len((path/'training'/f'{i}').ls()), 1) for i in range(0, 10)] \n",
    ")\n",
    "\n",
    "train_x.shape, train_y.shape"
   ]
  },
  {
   "cell_type": "code",
   "execution_count": 130,
   "id": "2ae1a9c5-0f13-4e40-90bb-200ac91e2085",
   "metadata": {},
   "outputs": [
    {
     "data": {
      "text/plain": [
       "(torch.Size([10000, 784]), torch.Size([10000, 10]))"
      ]
     },
     "execution_count": 130,
     "metadata": {},
     "output_type": "execute_result"
    }
   ],
   "source": [
    "valid_x = torch.cat(\n",
    "    [torch.stack([tensor(Image.open(o)) for o in (path/'testing'/f'{num}').ls()]).float()/255.0 for num in range(0, 10)]\n",
    ").view(-1, 28*28)\n",
    "\n",
    "valid_y = torch.cat(\n",
    "    [create_mask(i, 10).repeat(len((path/'testing'/f'{i}').ls()), 1) for i in range(0, 10)] \n",
    ")\n",
    "\n",
    "valid_x.shape, valid_y.shape"
   ]
  },
  {
   "cell_type": "code",
   "execution_count": 131,
   "id": "1200440a-f9ec-426f-88da-7d75049c3c52",
   "metadata": {
    "editable": true,
    "slideshow": {
     "slide_type": ""
    },
    "tags": []
   },
   "outputs": [],
   "source": [
    "# valid_3_tens = torch.stack([tensor(Image.open(o)) \n",
    "#                             for o in (path/'valid'/'3').ls()])\n",
    "# valid_3_tens = valid_3_tens.float()/255\n",
    "# valid_7_tens = torch.stack([tensor(Image.open(o)) \n",
    "#                             for o in (path/'valid'/'7').ls()])\n",
    "# valid_7_tens = valid_7_tens.float()/255\n",
    "\n",
    "\n",
    "# valid_x = torch.cat([valid_3_tens, valid_7_tens]).view(-1, 28*28)\n",
    "# valid_y = tensor([1]*len(valid_3_tens) + [0]*len(valid_7_tens)).unsqueeze(1)\n",
    "valid_dset = list(zip(valid_x,valid_y))\n",
    "valid_dl = DataLoader(valid_dset, batch_size=256)\n",
    "\n",
    "# train_3_tens = torch.stack([tensor(Image.open(o)) for o in (path/'train'/'3').ls()]).float()/255.0\n",
    "# train_7_tens = torch.stack([tensor(Image.open(o)) for o in (path/'train'/'7').ls()]).float()/255.0\n",
    "\n",
    "# train_x = torch.cat([train_3_tens, train_7_tens]).view(-1, 28*28)\n",
    "# train_y = tensor([1]*len(train_3_tens) + [0]*len(train_7_tens)).unsqueeze(1)\n",
    "train_dset = list(zip(train_x,train_y))\n",
    "train_dl = DataLoader(train_dset, batch_size=256)\n",
    "\n",
    "dls = DataLoaders(train_dl, valid_dl)"
   ]
  },
  {
   "cell_type": "code",
   "execution_count": 132,
   "id": "364836be-761c-4b0d-8129-fe0ed28a0dae",
   "metadata": {},
   "outputs": [
    {
     "data": {
      "text/plain": [
       "(torch.Size([256, 784]), torch.Size([256, 10]))"
      ]
     },
     "execution_count": 132,
     "metadata": {},
     "output_type": "execute_result"
    }
   ],
   "source": [
    "x, y = dls.one_batch()\n",
    "x.shape, y.shape"
   ]
  },
  {
   "cell_type": "markdown",
   "id": "54772417-3cc5-4398-8518-3bd0d25348f3",
   "metadata": {},
   "source": [
    "> TODO: HERE"
   ]
  },
  {
   "cell_type": "code",
   "execution_count": 32,
   "id": "e8129bc1-bfbe-4866-91e7-6d0fa61f8169",
   "metadata": {},
   "outputs": [],
   "source": [
    "def mnist_loss(predictions, targets):\n",
    "    predictions = predictions.sigmoid()\n",
    "    return torch.where(targets==1, 1-predictions, predictions).mean()"
   ]
  },
  {
   "cell_type": "code",
   "execution_count": 33,
   "id": "994b7326-d243-4c19-8d29-2112513d8b83",
   "metadata": {},
   "outputs": [],
   "source": [
    "def batch_accuracy(xb, yb):\n",
    "    preds = xb.sigmoid()\n",
    "    correct = (preds>0.5) == yb\n",
    "    return correct.float().mean()"
   ]
  },
  {
   "cell_type": "code",
   "execution_count": 86,
   "id": "a83bd6f1-39f1-4602-b848-da010e6437b8",
   "metadata": {
    "editable": true,
    "slideshow": {
     "slide_type": ""
    },
    "tags": []
   },
   "outputs": [],
   "source": [
    "class MyLearner:\n",
    "    def __init__(self, dataloaders, model, opt_func, loss_func, metrics):\n",
    "        self.dataloaders = dataloaders.cuda()\n",
    "        self.model = model.cuda()\n",
    "        self.opt_func = opt_func\n",
    "        self.loss_func = loss_func\n",
    "        self.metric = metrics\n",
    "        # print(self.model.device())\n",
    "        # print(self.dataloaders.device)\n",
    "\n",
    "    def fit(self, num_epochs, learning_rate):\n",
    "        opt = self.opt_func(self.model.parameters(), learning_rate)\n",
    "        print(opt)\n",
    "        for i in range(num_epochs):\n",
    "            self.train_epoch(opt)\n",
    "            print(self.validate_epoch(), end=' ')\n",
    "        return None\n",
    "\n",
    "    def train_epoch(self, opt):\n",
    "        train_dl = self.dataloaders[0]\n",
    "        for xb,yb in train_dl:\n",
    "            self.calc_grad(xb, yb)\n",
    "            opt.step()\n",
    "            opt.zero_grad()\n",
    "\n",
    "    def validate_epoch(self):\n",
    "        valid_dl = self.dataloaders[1]\n",
    "        met = [self.metric(self.model(xb), yb) for xb,yb in valid_dl]\n",
    "        return round(torch.stack(met).mean().item(), 4)\n",
    "\n",
    "    def calc_grad(self, data_batch, label_batch):\n",
    "        # print(data_batch.shape)\n",
    "        pred_batch = self.model(data_batch)\n",
    "        loss = self.loss_func(pred_batch, label_batch)\n",
    "        # print(loss)\n",
    "        loss.backward()"
   ]
  },
  {
   "cell_type": "code",
   "execution_count": 87,
   "id": "88fef2a9-ad0e-4a1f-b622-e9fbd3768496",
   "metadata": {},
   "outputs": [],
   "source": [
    "learn = MyLearner(dls, nn.Linear(28*28,1), opt_func=SGD,\n",
    "                loss_func=mnist_loss, metrics=batch_accuracy)"
   ]
  },
  {
   "cell_type": "code",
   "execution_count": 88,
   "id": "1ac450e9-038b-4400-9e94-67bb691dada9",
   "metadata": {},
   "outputs": [
    {
     "name": "stdout",
     "output_type": "stream",
     "text": [
      "<fastai.optimizer.Optimizer object at 0x7f6b7857aa70>\n",
      "0.5562 0.8765 0.937 0.9575 0.9634 0.9643 0.9658 0.9678 0.9678 0.9687 0.9697 0.9702 0.9707 0.9707 0.9717 0.9717 0.9717 0.9717 0.9717 0.9726 "
     ]
    }
   ],
   "source": [
    "learn.fit(20, 0.1)"
   ]
  },
  {
   "cell_type": "code",
   "execution_count": null,
   "id": "8a66e15b-4cc6-4a27-a27a-fa0f8fa50479",
   "metadata": {},
   "outputs": [],
   "source": []
  }
 ],
 "metadata": {
  "kernelspec": {
   "display_name": "Python 3 (ipykernel)",
   "language": "python",
   "name": "python3"
  },
  "language_info": {
   "codemirror_mode": {
    "name": "ipython",
    "version": 3
   },
   "file_extension": ".py",
   "mimetype": "text/x-python",
   "name": "python",
   "nbconvert_exporter": "python",
   "pygments_lexer": "ipython3",
   "version": "3.10.12"
  }
 },
 "nbformat": 4,
 "nbformat_minor": 5
}
